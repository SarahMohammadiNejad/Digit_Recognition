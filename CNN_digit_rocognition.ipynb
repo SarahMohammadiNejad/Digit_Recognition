{
 "cells": [
  {
   "cell_type": "code",
   "execution_count": 92,
   "metadata": {},
   "outputs": [],
   "source": [
    "import numpy as np\n",
    "from matplotlib import pyplot as plt\n",
    "from PIL import Image # To open the images\n",
    "import os #Use to find the name of the files (here images) in a directory\n",
    "\n",
    "from tensorflow.keras.datasets import mnist\n",
    "\n",
    "from tensorflow import keras\n",
    "from tensorflow.keras import backend as K\n",
    "from tensorflow.keras.models import Sequential\n",
    "from tensorflow.keras.layers import Conv2D, Dense, MaxPooling2D, Activation, Flatten\n",
    "from tensorflow.keras.utils import to_categorical"
   ]
  },
  {
   "cell_type": "code",
   "execution_count": 93,
   "metadata": {},
   "outputs": [
    {
     "name": "stdout",
     "output_type": "stream",
     "text": [
      "0   199\n",
      "1   199\n",
      "2   199\n",
      "3   199\n",
      "4   199\n",
      "5   199\n",
      "6   199\n",
      "7   199\n",
      "8   199\n",
      "9   199\n"
     ]
    }
   ],
   "source": [
    "# Read images and convert to np.array make lists. \n",
    "#Images (image_array_list) for later X and the digit written in each image (image_value_list) for y.  \n",
    "\n",
    "image_list = []\n",
    "image_array_list = []\n",
    "image_value_list = []\n",
    "\n",
    "objects = ['0','1','2','3','4','5','6','7','8','9']\n",
    "\n",
    "for ob_idx, ob in enumerate(objects):\n",
    "    path = \"datadig/\"+ob\n",
    "\n",
    "    obj_name_list = os.listdir(path)\n",
    "\n",
    "    for p_idx,p in enumerate(obj_name_list[0:200]):\n",
    "\n",
    "        im = Image.open(path+\"/\"+p)\n",
    "\n",
    "        image_list.append(im)\n",
    "        image_array_list.append(np.array(im))\n",
    "        image_value_list.append(ob_idx)\n",
    "    print(f'{ob}   {p_idx}')\n"
   ]
  },
  {
   "cell_type": "code",
   "execution_count": 94,
   "metadata": {},
   "outputs": [
    {
     "data": {
      "image/png": "[encoded data removed]",
      "text/plain": [
       "<PIL.PngImagePlugin.PngImageFile image mode=RGBA size=28x28>"
      ]
     },
     "execution_count": 94,
     "metadata": {},
     "output_type": "execute_result"
    }
   ],
   "source": [
    "image_list[45]"
   ]
  },
  {
   "cell_type": "code",
   "execution_count": 95,
   "metadata": {},
   "outputs": [
    {
     "name": "stdout",
     "output_type": "stream",
     "text": [
      "the matrix size of image array is: (28, 28, 4)\n"
     ]
    },
    {
     "data": {
      "image/png": "[encoded data removed]",
      "text/plain": [
       "<Figure size 576x288 with 1 Axes>"
      ]
     },
     "metadata": {
      "needs_background": "light"
     },
     "output_type": "display_data"
    }
   ],
   "source": [
    "plt.figure(figsize=(8, 4))\n",
    "plt.imshow(image_array_list[45]) \n",
    "print(f'the matrix size of image array is: {image_array_list[45].shape}')"
   ]
  },
  {
   "cell_type": "code",
   "execution_count": 96,
   "metadata": {},
   "outputs": [
    {
     "name": "stdout",
     "output_type": "stream",
     "text": [
      "size of read image array                         (2000, 28, 28, 4)\n",
      "size of image array after choosing 1 color layer (2000, 28, 28)\n",
      "size of image array after reshape                (2000, 28, 28, 1)\n",
      "0\n"
     ]
    },
    {
     "data": {
      "image/png": "[encoded data removed]",
      "text/plain": [
       "<Figure size 576x288 with 1 Axes>"
      ]
     },
     "metadata": {
      "needs_background": "light"
     },
     "output_type": "display_data"
    }
   ],
   "source": [
    "# Convert lists of X and y to arrays:\n",
    "Xtemp= np.array(image_array_list)\n",
    "y= np.array(image_value_list)\n",
    "\n",
    "# !The color is just in layer 3. Layer 0-2 has nothing\n",
    "X = Xtemp[:,:,:,3]\n",
    "\n",
    "print(f'size of read image array                         {Xtemp.shape}')\n",
    "print(f'size of image array after choosing 1 color layer {X.shape}')\n",
    "\n",
    "# For image recognition using CNN we need 4th component for colors (use reshape)  \n",
    "X = X.reshape(X.shape[0], 28, 28, 1)\n",
    "print(f'size of image array after reshape                {X.shape}')\n",
    "\n",
    "plt.figure(figsize=(8, 4))\n",
    "plt.imshow(X[45])\n",
    "print(y[45])\n",
    "\n"
   ]
  },
  {
   "cell_type": "markdown",
   "metadata": {},
   "source": [
    "After fitting my CNN fit, I found that the model does not work good for some digits (with very low scores in test set). I concluded this can be related to train-test splitting and maybe I need to shuffle the images before splitting, otherwise the model is not trained correctly."
   ]
  },
  {
   "cell_type": "code",
   "execution_count": 97,
   "metadata": {},
   "outputs": [
    {
     "name": "stdout",
     "output_type": "stream",
     "text": [
      "0\n"
     ]
    },
    {
     "data": {
      "image/png": "[encoded data removed]",
      "text/plain": [
       "<Figure size 576x288 with 1 Axes>"
      ]
     },
     "metadata": {
      "needs_background": "light"
     },
     "output_type": "display_data"
    }
   ],
   "source": [
    "# Shuffle X and y arrays at the same time (with the same order)\n",
    "def shuffel_arrays(arr1, arr2):\n",
    "    assert len(arr1) == len(arr2)\n",
    "    p = np.random.permutation(len(arr1))\n",
    "    return arr1[p], arr2[p]\n",
    "\n",
    "# Calling this function\n",
    "X_sh,y_sh = shuffel_arrays(X,y)\n",
    "X = X_sh\n",
    "y = y_sh\n",
    "\n",
    "\n",
    "plt.figure(figsize=(8, 4))\n",
    "plt.imshow(X[45])\n",
    "print(y[45])"
   ]
  },
  {
   "cell_type": "code",
   "execution_count": 98,
   "metadata": {},
   "outputs": [
    {
     "name": "stdout",
     "output_type": "stream",
     "text": [
      "what is the shape of y? (2000,)\n"
     ]
    }
   ],
   "source": [
    "from tensorflow.keras.utils import to_categorical\n",
    "print(f'what is the shape of y? {y.shape}')\n",
    "\n",
    "# Convert digits(0-9) in y to 10 cells with values=0|1\n",
    "ycat = to_categorical(y)"
   ]
  },
  {
   "cell_type": "code",
   "execution_count": 99,
   "metadata": {},
   "outputs": [
    {
     "name": "stdout",
     "output_type": "stream",
     "text": [
      "Before y Categorization    X: (2000, 28, 28, 1), and y: (2000,)\n",
      "After y Categorization     X: (2000, 28, 28, 1), and y: (2000, 10)\n",
      "---------------\n",
      "After categorization and split: \n",
      "Shape of train X: (1400, 28, 28, 1), and y: (1400, 10)\n",
      "Shape of test X: (600, 28, 28, 1), and y: (600, 10)\n"
     ]
    }
   ],
   "source": [
    "#Some prints to check the input (X) and outpus (y) for CNN.\n",
    "from sklearn.model_selection import train_test_split\n",
    "Xtrain, Xtest, ytrain, ytest = train_test_split(X, ycat, test_size=0.3, random_state=42)\n",
    "print(f'Before y Categorization    X: {X.shape}, and y: {y.shape}')\n",
    "print(f'After y Categorization     X: {X.shape}, and y: {ycat.shape}')\n",
    "print('---------------')\n",
    "print('After categorization and split: ') \n",
    "print(f'Shape of train X: {Xtrain.shape}, and y: {ytrain.shape}')\n",
    "print(f'Shape of test X: {Xtest.shape}, and y: {ytest.shape}')"
   ]
  },
  {
   "cell_type": "code",
   "execution_count": 100,
   "metadata": {},
   "outputs": [],
   "source": [
    "# Defining model for feature learning (Conv2D and Maxpooling) \n",
    "# Then flatten and then Dense layers\n",
    "K.clear_session()\n",
    "model = Sequential([\n",
    "\n",
    "    Conv2D(6, kernel_size=(5,5), strides=(1,1),\n",
    "           activation='relu', input_shape=Xtrain[0].shape,\n",
    "           padding='valid'),\n",
    "    \n",
    "    MaxPooling2D(pool_size=(2,2), strides=(2,2), padding='valid'),\n",
    "    \n",
    "    \n",
    "    Conv2D(16, kernel_size=(5,5),strides=(1,1),\n",
    "           activation='relu', padding='valid'),\n",
    "    \n",
    "    MaxPooling2D(pool_size=(2,2), strides=(2,2), padding='valid'),\n",
    "    \n",
    "    \n",
    "    Flatten(),\n",
    "    \n",
    "    Dense(120, activation='relu'),\n",
    "    \n",
    "    Dense(86, activation='relu'),\n",
    "    \n",
    "    Dense(len(objects), activation='softmax')\n",
    "    \n",
    "])"
   ]
  },
  {
   "cell_type": "code",
   "execution_count": 101,
   "metadata": {},
   "outputs": [],
   "source": [
    "# Define comile and its parameters\n",
    "model.compile(optimizer='rmsprop', # type of Gradient Descent 'rmsprop'\n",
    "              loss='categorical_crossentropy', # multiclass: 'categorical_crossentropy'\n",
    "              metrics=['accuracy'])"
   ]
  },
  {
   "cell_type": "code",
   "execution_count": 102,
   "metadata": {},
   "outputs": [
    {
     "name": "stdout",
     "output_type": "stream",
     "text": [
      "Model: \"sequential\"\n",
      "_________________________________________________________________\n",
      " Layer (type)                Output Shape              Param #   \n",
      "=================================================================\n",
      " conv2d (Conv2D)             (None, 24, 24, 6)         156       \n",
      "                                                                 \n",
      " max_pooling2d (MaxPooling2  (None, 12, 12, 6)         0         \n",
      " D)                                                              \n",
      "                                                                 \n",
      " conv2d_1 (Conv2D)           (None, 8, 8, 16)          2416      \n",
      "                                                                 \n",
      " max_pooling2d_1 (MaxPoolin  (None, 4, 4, 16)          0         \n",
      " g2D)                                                            \n",
      "                                                                 \n",
      " flatten (Flatten)           (None, 256)               0         \n",
      "                                                                 \n",
      " dense (Dense)               (None, 120)               30840     \n",
      "                                                                 \n",
      " dense_1 (Dense)             (None, 86)                10406     \n",
      "                                                                 \n",
      " dense_2 (Dense)             (None, 10)                870       \n",
      "                                                                 \n",
      "=================================================================\n",
      "Total params: 44688 (174.56 KB)\n",
      "Trainable params: 44688 (174.56 KB)\n",
      "Non-trainable params: 0 (0.00 Byte)\n",
      "_________________________________________________________________\n"
     ]
    }
   ],
   "source": [
    "model.summary()"
   ]
  },
  {
   "cell_type": "code",
   "execution_count": 103,
   "metadata": {},
   "outputs": [],
   "source": [
    "# import tensorflow.keras as keras\n",
    "early_stop = keras.callbacks.EarlyStopping(\n",
    "    monitor = 'val_loss', #the thing we are monitoring\n",
    "    min_delta = 0.0005, #the minimum change in the quantity that we want for the model to train for another epoch\n",
    "    patience = 3, #number of epochs with no improvement needed for the model to stop\n",
    "    verbose = 1, #0 is silent, 1 means a message is displayed when something happens\n",
    "    mode = 'auto'  \n",
    ")"
   ]
  },
  {
   "cell_type": "code",
   "execution_count": 104,
   "metadata": {},
   "outputs": [
    {
     "name": "stdout",
     "output_type": "stream",
     "text": [
      "Epoch 1/500\n",
      "8/8 [==============================] - 1s 61ms/step - loss: 18.0689 - accuracy: 0.2313 - val_loss: 4.7021 - val_accuracy: 0.3821\n",
      "Epoch 2/500\n",
      "8/8 [==============================] - 0s 27ms/step - loss: 3.3204 - accuracy: 0.4616 - val_loss: 2.5284 - val_accuracy: 0.5571\n",
      "Epoch 3/500\n",
      "8/8 [==============================] - 0s 28ms/step - loss: 1.7340 - accuracy: 0.6313 - val_loss: 1.5923 - val_accuracy: 0.6500\n",
      "Epoch 4/500\n",
      "8/8 [==============================] - 0s 27ms/step - loss: 0.8099 - accuracy: 0.7902 - val_loss: 1.3894 - val_accuracy: 0.7000\n",
      "Epoch 5/500\n",
      "8/8 [==============================] - 0s 27ms/step - loss: 0.8318 - accuracy: 0.7839 - val_loss: 0.7440 - val_accuracy: 0.8107\n",
      "Epoch 6/500\n",
      "8/8 [==============================] - 0s 26ms/step - loss: 0.2280 - accuracy: 0.9312 - val_loss: 0.7612 - val_accuracy: 0.8250\n",
      "Epoch 7/500\n",
      "8/8 [==============================] - 0s 26ms/step - loss: 0.1256 - accuracy: 0.9625 - val_loss: 0.5697 - val_accuracy: 0.8464\n",
      "Epoch 8/500\n",
      "8/8 [==============================] - 0s 25ms/step - loss: 0.0595 - accuracy: 0.9821 - val_loss: 0.4842 - val_accuracy: 0.8893\n",
      "Epoch 9/500\n",
      "8/8 [==============================] - 0s 25ms/step - loss: 0.0281 - accuracy: 0.9937 - val_loss: 0.4240 - val_accuracy: 0.8964\n",
      "Epoch 10/500\n",
      "8/8 [==============================] - 0s 24ms/step - loss: 0.7380 - accuracy: 0.8420 - val_loss: 0.6716 - val_accuracy: 0.8571\n",
      "Epoch 11/500\n",
      "8/8 [==============================] - 0s 25ms/step - loss: 0.0471 - accuracy: 0.9821 - val_loss: 0.3788 - val_accuracy: 0.9143\n",
      "Epoch 12/500\n",
      "8/8 [==============================] - 0s 27ms/step - loss: 0.0241 - accuracy: 0.9920 - val_loss: 0.2272 - val_accuracy: 0.9429\n",
      "Epoch 13/500\n",
      "8/8 [==============================] - 0s 33ms/step - loss: 0.0023 - accuracy: 1.0000 - val_loss: 0.2382 - val_accuracy: 0.9429\n",
      "Epoch 14/500\n",
      "8/8 [==============================] - 0s 25ms/step - loss: 0.0014 - accuracy: 1.0000 - val_loss: 0.2335 - val_accuracy: 0.9429\n",
      "Epoch 15/500\n",
      "8/8 [==============================] - 0s 27ms/step - loss: 9.5414e-04 - accuracy: 1.0000 - val_loss: 0.2392 - val_accuracy: 0.9429\n",
      "Epoch 15: early stopping\n"
     ]
    },
    {
     "data": {
      "text/plain": [
       "<keras.src.callbacks.History at 0x7f9ccd932b80>"
      ]
     },
     "execution_count": 104,
     "metadata": {},
     "output_type": "execute_result"
    }
   ],
   "source": [
    "# Model learning, it will stop when conditions in early stop are fullfilled\n",
    "model.fit(Xtrain, ytrain, epochs=500, batch_size=150, validation_split = 0.2,callbacks = [early_stop])\n"
   ]
  },
  {
   "cell_type": "code",
   "execution_count": 105,
   "metadata": {},
   "outputs": [
    {
     "name": "stdout",
     "output_type": "stream",
     "text": [
      "19/19 [==============================] - 0s 2ms/step\n"
     ]
    }
   ],
   "source": [
    "# Predict the test set\n",
    "ytest_pred = model.predict(Xtest)"
   ]
  },
  {
   "cell_type": "code",
   "execution_count": 106,
   "metadata": {},
   "outputs": [
    {
     "name": "stdout",
     "output_type": "stream",
     "text": [
      "In test dataset the total number of correct guessess is 563 out of 600\n",
      "score = 0.93833\n",
      "----------------\n",
      "The % of being wrong for each object:\n",
      "\n",
      "0 is guessed wrongly 7.0 times out of 59.0 --> 12%\n",
      "1 is guessed wrongly 2.0 times out of 60.0 --> 3%\n",
      "2 is guessed wrongly 1.0 times out of 54.0 --> 2%\n",
      "3 is guessed wrongly 6.0 times out of 51.0 --> 12%\n",
      "4 is guessed wrongly 2.0 times out of 61.0 --> 3%\n",
      "5 is guessed wrongly 6.0 times out of 59.0 --> 10%\n",
      "6 is guessed wrongly 2.0 times out of 63.0 --> 3%\n",
      "7 is guessed wrongly 6.0 times out of 69.0 --> 9%\n",
      "8 is guessed wrongly 5.0 times out of 60.0 --> 8%\n",
      "9 is guessed wrongly 0.0 times out of 64.0 --> 0%\n"
     ]
    }
   ],
   "source": [
    "# Calculating the accuracy of the model for each digit separately\n",
    "\n",
    "num_Obj=len(objects)\n",
    "wrong_count_obj = np.zeros((num_Obj,1))\n",
    "tot_count_obj = np.zeros((num_Obj,1))\n",
    "test_len = ytest.shape[0]\n",
    "tot_correct_count = 0\n",
    "\n",
    "for i in range(ytest.shape[0]):\n",
    "    b = np.argmax(ytest[i])\n",
    "    tot_count_obj[b] = tot_count_obj[b]+1\n",
    "    if(b==np.argmax(ytest_pred[i])):\n",
    "        tot_correct_count = tot_correct_count +1\n",
    "    else:\n",
    "        wrong_count_obj[b] = wrong_count_obj[b]+1\n",
    "print(f'In test dataset the total number of correct guessess is {tot_correct_count} out of {test_len}')\n",
    "print(f'score = {round(tot_correct_count/test_len,5)}')\n",
    "print('----------------')\n",
    "print('The % of being wrong for each object:\\n')\n",
    "for ob_idx,ob in enumerate(objects):\n",
    "    print(f'{ob} is guessed wrongly {wrong_count_obj[ob_idx][0]} times out of {tot_count_obj[ob_idx][0]} --> {round(100*wrong_count_obj[ob_idx][0]/tot_count_obj[ob_idx][0])}%')\n"
   ]
  }
 ],
 "metadata": {
  "kernelspec": {
   "display_name": "Python 3",
   "language": "python",
   "name": "python3"
  },
  "language_info": {
   "codemirror_mode": {
    "name": "ipython",
    "version": 3
   },
   "file_extension": ".py",
   "mimetype": "text/x-python",
   "name": "python",
   "nbconvert_exporter": "python",
   "pygments_lexer": "ipython3",
   "version": "3.9.12"
  },
  "orig_nbformat": 4
 },
 "nbformat": 4,
 "nbformat_minor": 2
}
